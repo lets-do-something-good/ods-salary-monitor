{
 "cells": [
  {
   "cell_type": "code",
   "execution_count": 1,
   "metadata": {
    "pycharm": {
     "is_executing": false
    }
   },
   "outputs": [],
   "source": [
    "import datetime\n",
    "import os\n",
    "import re\n",
    "import json\n",
    "from collections import Counter\n",
    "from pathlib import Path\n",
    "\n",
    "\n",
    "import pandas as pd\n",
    "import numpy as np\n",
    "import matplotlib.pyplot as plt\n",
    "from tqdm.notebook import tqdm\n"
   ]
  },
  {
   "cell_type": "code",
   "execution_count": 2,
   "metadata": {
    "pycharm": {
     "is_executing": false,
     "metadata": false,
     "name": "#%%\n"
    }
   },
   "outputs": [
    {
     "data": {
      "text/plain": [
       "[('_random_talks', 1981),\n",
       " ('theory_and_practice', 1853),\n",
       " ('deep_learning', 1853),\n",
       " ('lang_python', 1830),\n",
       " ('interesting_links', 1810),\n",
       " ('_jobs', 1779),\n",
       " ('_meetings', 1775),\n",
       " ('nlp', 1685),\n",
       " ('edu_courses', 1666),\n",
       " ('kaggle_crackers', 1661)]"
      ]
     },
     "execution_count": 2,
     "metadata": {},
     "output_type": "execute_result"
    }
   ],
   "source": [
    "data_path = Path(\"../data/opendatascience Slack export Mar 12 2015 - Sep 18 2020\")\n",
    "\n",
    "channels = os.listdir(data_path)\n",
    "channels_counts = Counter({\n",
    "    c: len(os.listdir(data_path / c)) for c in channels\n",
    "    if not c.endswith(\".json\")\n",
    "})\n",
    "channels_counts.most_common(10)"
   ]
  },
  {
   "cell_type": "markdown",
   "metadata": {
    "pycharm": {
     "metadata": false,
     "name": "#%% md\n"
    }
   },
   "source": [
    "# Jobs analytics\n"
   ]
  },
  {
   "cell_type": "code",
   "execution_count": 3,
   "metadata": {
    "pycharm": {
     "is_executing": false,
     "metadata": false,
     "name": "#%%\n"
    }
   },
   "outputs": [],
   "source": [
    "jobs_data_path = data_path / \"_jobs\"\n",
    "\n",
    "dates = [datetime.datetime.strptime(d.split('.')[0], \"%Y-%m-%d\") \n",
    "         for d in os.listdir(jobs_data_path)]"
   ]
  },
  {
   "cell_type": "markdown",
   "metadata": {},
   "source": [
    "В динамика вакансий с годами"
   ]
  },
  {
   "cell_type": "code",
   "execution_count": 4,
   "metadata": {
    "pycharm": {
     "is_executing": false,
     "metadata": false,
     "name": "#%%\n"
    }
   },
   "outputs": [
    {
     "data": {
      "text/plain": [
       "Counter({2016: 342, 2019: 350, 2020: 249, 2018: 338, 2017: 349, 2015: 151})"
      ]
     },
     "execution_count": 4,
     "metadata": {},
     "output_type": "execute_result"
    }
   ],
   "source": [
    "# Top years\n",
    "Counter((d.year for d in dates))\n"
   ]
  },
  {
   "cell_type": "code",
   "execution_count": 5,
   "metadata": {},
   "outputs": [],
   "source": [
    "def count_sort_split(data):\n",
    "    n_posts_by_years = sorted(Counter(data).items(), key = lambda x: x[0])\n",
    "    keys = [v[0] for v in n_posts_by_years]\n",
    "    values = [v[1] for v in n_posts_by_years]\n",
    "    return keys, values"
   ]
  },
  {
   "cell_type": "code",
   "execution_count": 6,
   "metadata": {},
   "outputs": [],
   "source": [
    "years, posts = count_sort_split((d.year for d in dates))"
   ]
  },
  {
   "cell_type": "code",
   "execution_count": 7,
   "metadata": {},
   "outputs": [
    {
     "data": {
      "image/png": "[encoded data removed]",
      "text/plain": [
       "<Figure size 432x288 with 1 Axes>"
      ]
     },
     "metadata": {
      "needs_background": "light"
     },
     "output_type": "display_data"
    }
   ],
   "source": [
    "plt.plot(posts)\n",
    "plt.xticks(range(len(years)), years)\n",
    "plt.show()"
   ]
  },
  {
   "cell_type": "code",
   "execution_count": 8,
   "metadata": {
    "pycharm": {
     "is_executing": false,
     "metadata": false,
     "name": "#%%\n"
    }
   },
   "outputs": [],
   "source": [
    "# Top months\n",
    "months, posts = count_sort_split((d.month for d in dates))"
   ]
  },
  {
   "cell_type": "code",
   "execution_count": 9,
   "metadata": {},
   "outputs": [
    {
     "data": {
      "image/png": "[encoded data removed]",
      "text/plain": [
       "<Figure size 432x288 with 1 Axes>"
      ]
     },
     "metadata": {
      "needs_background": "light"
     },
     "output_type": "display_data"
    }
   ],
   "source": [
    "plt.plot(posts)\n",
    "plt.xticks(range(len(months)), months)\n",
    "plt.show()"
   ]
  },
  {
   "cell_type": "code",
   "execution_count": 10,
   "metadata": {
    "pycharm": {
     "is_executing": false,
     "metadata": false,
     "name": "#%%\n"
    }
   },
   "outputs": [],
   "source": [
    "# select vacancies from 2019\n",
    "\n",
    "files_to_use = [f\"{d.strftime('%Y-%m-%d')}.json\" \n",
    "                    for d in dates if d.year in (2020, 2019)]"
   ]
  },
  {
   "cell_type": "code",
   "execution_count": 11,
   "metadata": {
    "pycharm": {
     "is_executing": false,
     "metadata": false,
     "name": "#%%\n"
    }
   },
   "outputs": [
    {
     "data": {
      "text/plain": [
       "599"
      ]
     },
     "execution_count": 11,
     "metadata": {},
     "output_type": "execute_result"
    }
   ],
   "source": [
    "len(files_to_use)"
   ]
  },
  {
   "cell_type": "code",
   "execution_count": 12,
   "metadata": {
    "pycharm": {
     "is_executing": false,
     "metadata": false,
     "name": "#%%\n"
    }
   },
   "outputs": [],
   "source": [
    "def extract_salary_from_top_job(data: dict, city=\":spb:\"):\n",
    "    rlist = []\n",
    "    for line in data[\"text\"].split(\"\\n\"):\n",
    "        if city in line:\n",
    "            if \":fork\" in line:\n",
    "                rlist.append((line,\n",
    "                              re.findall(\"\\*[A-Za-zа-яА-Я ]+\\* by\", line),\n",
    "                              [*map(int, re.findall(r\"[0-9]+\", line.split(\":fork:\")[1]))]))\n",
    "            \n",
    "    return rlist\n",
    "\n"
   ]
  },
  {
   "cell_type": "code",
   "execution_count": 13,
   "metadata": {
    "pycharm": {
     "is_executing": false,
     "metadata": false,
     "name": "#%%\n"
    }
   },
   "outputs": [],
   "source": [
    "with open(jobs_data_path / files_to_use[0]) as f:\n",
    "    job_dict = json.load(f)"
   ]
  },
  {
   "cell_type": "code",
   "execution_count": 14,
   "metadata": {
    "scrolled": false
   },
   "outputs": [
    {
     "data": {
      "text/plain": [
       "[{'client_msg_id': '890cf555-5ebc-4244-80e9-dbb6f79c0a95',\n",
       "  'type': 'message',\n",
       "  'text': '&gt; даже если не получится, мы дадим обратную связь по интервью и потом можем еще выслать пример для прокачки скилов.\\nВ моем случае даже отказ внятно не сформулировали, не говоря уже о примерах для прокачки.',\n",
       "  'user': 'U7CAU0GMU',\n",
       "  'ts': '1574323723.403300',\n",
       "  'team': 'T040HKJE3',\n",
       "  'user_team': 'T040HKJE3',\n",
       "  'source_team': 'T040HKJE3',\n",
       "  'user_profile': {'avatar_hash': '69c0136d324c',\n",
       "   'image_72': 'https://avatars.slack-edge.com/2019-10-09/783141116705_69c0136d324c3287ce9d_72.jpg',\n",
       "   'first_name': 'Andrey',\n",
       "   'real_name': 'Andrey Kolomiets',\n",
       "   'display_name': '',\n",
       "   'team': 'T040HKJE3',\n",
       "   'name': 'ak.519',\n",
       "   'is_restricted': False,\n",
       "   'is_ultra_restricted': False},\n",
       "  'thread_ts': '1574314111.394300',\n",
       "  'parent_user_id': 'U52330HTK',\n",
       "  'reactions': [{'name': 'true-story',\n",
       "    'users': ['UDSC91AH1', 'U7E8Y3V19', 'U6Y8C4J4F'],\n",
       "    'count': 3},\n",
       "   {'name': 'pepe_sad', 'users': ['UMQSP3DJM', 'UDSC91AH1'], 'count': 2}]},\n",
       " {'client_msg_id': '999c60f0-6063-4c37-a0a1-a7615bb73a0c',\n",
       "  'type': 'message',\n",
       "  'text': 'Привет!\\n*Позиция:* Team Lead (Data science)\\n*Компания:* Лаборатория искусственного интеллекта Университета Иннополис\\n*Локация:* г. Иннополис (Республика Татарстан)\\n*Занятость:* full-time\\nНаша команда реализует научные и индустриальные проекты для компаний-заказчиков в различных отраслях, включая нефтегазовую отрасль, промышленность, энергетику, медицину, лесное и сельское хозяйство.\\nПри этом сочетаем серьезные научные исследования (имеем публикации в ведущих научных журналах, включая IEEE Transactions on Medical Imaging, Medical Images Analysis и др.). Также мы выступаем в качестве экспертов при обучении специалистов компаний технологиям машинного обучения.\\nОдним из наиболее важных текущих проектов является анализ данных внутритрубной диагностики с целью обнаружения дефектов труб (коррозии, трещины и т.д.).\\n*Стек:* машинное обучение, глубокое обучение, CV , Python, TensorFlow, Pytorch.\\nСейчас мы ищем в команду амбициозного ТИМЛИДА, который не только выступит экспертом в решении нетривиальных технических задач, но и поможет расти профессионально нашей команде и стать одним из лидеров в области технологий искусственного интеллекта в России.\\n\\n*Необходимые компетенции:*\\n- широкий кругозор (т.е знания и опыт как в классическом мл (табличные данные), так и в других сферах, таких как обработка естественного языка, компьютерное зрение, анализ временных рядов и т.п)\\n- опыт вывода проектов в продакшн для индустриальных заказчиков, включая участие в совещаниях с заказчиками и в техническом пресейле\\n- навыки организация работы команды, в том числе используя инструменты (TFS, Git и др.)\\n\\n*Мы предлагаем:*\\n- 180-300 т.р. оклад +ежеквартальные премии\\n- Бюджет на конференции, курсы и т.д.\\n- Молодой коллектив с опытом деплоймента реальных DL-проектов (11 человек уровня junior и middle)\\n- Помощь с оформлением арендного жилья и регистрации в г. Иннополис\\n- Для обучения моделей и проведения экспериментов мы используем рабочие станции с GPU NVIDIA RTX 1080Ti, серверы с NVIDIA V100 и кластер NVIDIA DGX-1 на базе видеокарт NVIDIA V100',\n",
       "  'user': 'U6X06R596',\n",
       "  'ts': '1574324353.405000',\n",
       "  'team': 'T040HKJE3',\n",
       "  'user_team': 'T040HKJE3',\n",
       "  'source_team': 'T040HKJE3',\n",
       "  'user_profile': {'avatar_hash': '82d5656665ba',\n",
       "   'image_72': 'https://avatars.slack-edge.com/2019-11-21/835540675201_82d5656665bab3d42010_72.jpg',\n",
       "   'first_name': 'RAUF',\n",
       "   'real_name': 'RAUF YAGFAROV',\n",
       "   'display_name': 'RocketFlash',\n",
       "   'team': 'T040HKJE3',\n",
       "   'name': 'goodraff',\n",
       "   'is_restricted': False,\n",
       "   'is_ultra_restricted': False},\n",
       "  'edited': {'user': 'U6X06R596', 'ts': '1574325820.000000'},\n",
       "  'blocks': [{'type': 'rich_text',\n",
       "    'block_id': 'ZWgn',\n",
       "    'elements': [{'type': 'rich_text_section',\n",
       "      'elements': [{'type': 'text', 'text': 'Привет!\\n'},\n",
       "       {'type': 'text', 'text': 'Позиция:', 'style': {'bold': True}},\n",
       "       {'type': 'text', 'text': ' Team Lead (Data science)\\n'},\n",
       "       {'type': 'text', 'text': 'Компания:', 'style': {'bold': True}},\n",
       "       {'type': 'text',\n",
       "        'text': ' Лаборатория искусственного интеллекта Университета Иннополис\\n'},\n",
       "       {'type': 'text', 'text': 'Локация:', 'style': {'bold': True}},\n",
       "       {'type': 'text', 'text': ' г. Иннополис (Республика Татарстан)\\n'},\n",
       "       {'type': 'text', 'text': 'Занятость:', 'style': {'bold': True}},\n",
       "       {'type': 'text',\n",
       "        'text': ' full-time\\nНаша команда реализует научные и индустриальные проекты для компаний-заказчиков в различных отраслях, включая нефтегазовую отрасль, промышленность, энергетику, медицину, лесное и сельское хозяйство.\\nПри этом сочетаем серьезные научные исследования (имеем публикации в ведущих научных журналах, включая IEEE Transactions on Medical Imaging, Medical Images Analysis и др.). Также мы выступаем в качестве экспертов при обучении специалистов компаний технологиям машинного обучения.\\nОдним из наиболее важных текущих проектов является анализ данных внутритрубной диагностики с целью обнаружения дефектов труб (коррозии, трещины и т.д.).\\n'},\n",
       "       {'type': 'text', 'text': 'Стек:', 'style': {'bold': True}},\n",
       "       {'type': 'text',\n",
       "        'text': ' машинное обучение, глубокое обучение, CV , Python, TensorFlow, Pytorch.\\nСейчас мы ищем в команду амбициозного ТИМЛИДА, который не только выступит экспертом в решении нетривиальных технических задач, но и поможет расти профессионально нашей команде и стать одним из лидеров в области технологий искусственного интеллекта в России.\\n\\n'},\n",
       "       {'type': 'text',\n",
       "        'text': 'Необходимые компетенции:',\n",
       "        'style': {'bold': True}},\n",
       "       {'type': 'text',\n",
       "        'text': '\\n- широкий кругозор (т.е знания и опыт как в классическом мл (табличные данные), так и в других сферах, таких как обработка естественного языка, компьютерное зрение, анализ временных рядов и т.п)\\n- опыт вывода проектов в продакшн для индустриальных заказчиков, включая участие в совещаниях с заказчиками и в техническом пресейле\\n- навыки организация работы команды, в том числе используя инструменты (TFS, Git и др.)\\n\\n'},\n",
       "       {'type': 'text', 'text': 'Мы предлагаем:', 'style': {'bold': True}},\n",
       "       {'type': 'text',\n",
       "        'text': '\\n- 180-300 т.р. оклад +ежеквартальные премии\\n- Бюджет на конференции, курсы и т.д.\\n- Молодой коллектив с опытом деплоймента реальных DL-проектов (11 человек уровня junior и middle)\\n- Помощь с оформлением арендного жилья и регистрации в г. Иннополис\\n- Для обучения моделей и проведения экспериментов мы используем рабочие станции с GPU NVIDIA RTX 1080Ti, серверы с NVIDIA V100 и кластер NVIDIA DGX-1 на базе видеокарт NVIDIA V100'}]}]}],\n",
       "  'thread_ts': '1574324353.405000',\n",
       "  'reply_count': 3,\n",
       "  'reply_users_count': 3,\n",
       "  'latest_reply': '1574349938.426400',\n",
       "  'reply_users': ['U64GCA997', 'U6GHF30CV', 'U6X06R596'],\n",
       "  'replies': [{'user': 'U64GCA997', 'ts': '1574333160.415600'},\n",
       "   {'user': 'U6GHF30CV', 'ts': '1574334201.418200'},\n",
       "   {'user': 'U6X06R596', 'ts': '1574349938.426400'}],\n",
       "  'subscribed': False,\n",
       "  'reactions': [{'name': 'notbad_n01z3',\n",
       "    'users': ['UAF1W2R3M',\n",
       "     'U5J7KCHLG',\n",
       "     'U50GQKH5J',\n",
       "     'U0JHK9001',\n",
       "     'U7E8Y3V19',\n",
       "     'U6WQL1CMV',\n",
       "     'UC7DFDJUA',\n",
       "     'UDSC91AH1',\n",
       "     'U6YDWF4UB',\n",
       "     'UDK41MN5U',\n",
       "     'U9YC38N57',\n",
       "     'U37A9KAUE',\n",
       "     'U6L08K8KS',\n",
       "     'U677CBGH2'],\n",
       "    'count': 14},\n",
       "   {'name': 'no_capitalism',\n",
       "    'users': ['U3G5SK5J6',\n",
       "     'U7E8Y3V19',\n",
       "     'UNMTRMDE0',\n",
       "     'UCTV3D6V8',\n",
       "     'UPD47KCSZ',\n",
       "     'U74DMEDAQ',\n",
       "     'UC7DFDJUA',\n",
       "     'U24FDDCG7',\n",
       "     'UHGFW1V2M',\n",
       "     'UG28LN4PP',\n",
       "     'UM55A9EA3',\n",
       "     'UG9HL6CG4'],\n",
       "    'count': 12},\n",
       "   {'name': '+1',\n",
       "    'users': ['U7CAU0GMU',\n",
       "     'U50EVF538',\n",
       "     'U7SFPUVQF',\n",
       "     'U8TBPUS56',\n",
       "     'U27SUBTB9',\n",
       "     'U48B3EN87',\n",
       "     'UC7DFDJUA',\n",
       "     'U95BW05K5',\n",
       "     'U705ED0CU',\n",
       "     'U5FCA4F8X',\n",
       "     'U1CMPEWPQ',\n",
       "     'U1MLEMG11',\n",
       "     'UJX4VBRPE',\n",
       "     'U3R2ZGFC3'],\n",
       "    'count': 14},\n",
       "   {'name': 'notbad',\n",
       "    'users': ['UAF5WM2EN',\n",
       "     'U7SFPUVQF',\n",
       "     'UCKGAQKE0',\n",
       "     'U7ZUB2REH',\n",
       "     'U48B3EN87',\n",
       "     'UC7DFDJUA',\n",
       "     'UCM1WHP1U',\n",
       "     'UDSC91AH1',\n",
       "     'U5FCA4F8X',\n",
       "     'U705ED0CU',\n",
       "     'U4P10HEJV'],\n",
       "    'count': 11},\n",
       "   {'name': 'fireball',\n",
       "    'users': ['U95BW05K5',\n",
       "     'U7SFPUVQF',\n",
       "     'U8TBPUS56',\n",
       "     'UDL0CCV8C',\n",
       "     'U7DEPRKCZ',\n",
       "     'U5FCA4F8X',\n",
       "     'U6SCXUP6U',\n",
       "     'UPZTJ8YDQ',\n",
       "     'UMKCLDJJU'],\n",
       "    'count': 9},\n",
       "   {'name': 'putin',\n",
       "    'users': ['UB44VP42Y', 'U60EETE7N', 'UHE5T84TS', 'UMMHHK3C6', 'UPZTJ8YDQ'],\n",
       "    'count': 5},\n",
       "   {'name': 'widefork',\n",
       "    'users': ['UD6TXA7R7', 'U60EETE7N', 'U30A6KZLH', 'U90HKUW3B'],\n",
       "    'count': 4},\n",
       "   {'name': 'bombanoolo', 'users': ['U9073D7GC'], 'count': 1}]},\n",
       " {'client_msg_id': 'ABD4067A-A8A2-4389-BDFD-0B70E7E38E18',\n",
       "  'type': 'message',\n",
       "  'text': 'Потому что отказ формулировал :robot_face: ',\n",
       "  'user': 'UDSBE0FKN',\n",
       "  'ts': '1574324806.406200',\n",
       "  'team': 'T040HKJE3',\n",
       "  'user_team': 'T040HKJE3',\n",
       "  'source_team': 'T040HKJE3',\n",
       "  'user_profile': {'avatar_hash': 'f36767011b7c',\n",
       "   'image_72': 'https://avatars.slack-edge.com/2020-03-15/1002656623895_f36767011b7cc85f37be_72.jpg',\n",
       "   'first_name': 'Artem',\n",
       "   'real_name': 'Artem Zolkin',\n",
       "   'display_name': 'arquestro',\n",
       "   'team': 'T040HKJE3',\n",
       "   'name': 'arquestro93',\n",
       "   'is_restricted': False,\n",
       "   'is_ultra_restricted': False},\n",
       "  'thread_ts': '1574314111.394300',\n",
       "  'parent_user_id': 'U52330HTK',\n",
       "  'reactions': [{'name': 'trollface',\n",
       "    'users': ['U7CAU0GMU',\n",
       "     'UFSTXBQ7K',\n",
       "     'UE7FQ2EFR',\n",
       "     'UHR5Q170B',\n",
       "     'UMQSP3DJM',\n",
       "     'U55D24C90',\n",
       "     'U7DTGC4PL',\n",
       "     'UDSC91AH1',\n",
       "     'UDL0CCV8C',\n",
       "     'U7N4E8GBF',\n",
       "     'U1YQLTMLH',\n",
       "     'UEYFG7JGM',\n",
       "     'UPA0PA8AE'],\n",
       "    'count': 13}]},\n",
       " {'client_msg_id': '1a680d8f-45b2-4177-8463-d9373d2082bd',\n",
       "  'type': 'message',\n",
       "  'text': 'Вы всё-таки ушли от набора эвристик в ML? :+1::skin-tone-2:',\n",
       "  'user': 'U4WM1939Q',\n",
       "  'ts': '1574327120.408700',\n",
       "  'team': 'T040HKJE3',\n",
       "  'user_team': 'T040HKJE3',\n",
       "  'source_team': 'T040HKJE3',\n",
       "  'user_profile': {'avatar_hash': '586abf0ae10d',\n",
       "   'image_72': 'https://avatars.slack-edge.com/2017-09-16/242353084725_586abf0ae10da1c590ec_72.jpg',\n",
       "   'first_name': 'Andrey',\n",
       "   'real_name': 'Andrey Gurevich',\n",
       "   'display_name': 'amber4eg',\n",
       "   'team': 'T040HKJE3',\n",
       "   'name': 'amber4eg',\n",
       "   'is_restricted': False,\n",
       "   'is_ultra_restricted': False},\n",
       "  'blocks': [{'type': 'rich_text',\n",
       "    'block_id': 'X2Bsb',\n",
       "    'elements': [{'type': 'rich_text_section',\n",
       "      'elements': [{'type': 'text',\n",
       "        'text': 'Вы всё-таки ушли от набора эвристик в ML? '},\n",
       "       {'type': 'emoji', 'name': '+1', 'skin_tone': 2}]}]}],\n",
       "  'thread_ts': '1574273608.381000',\n",
       "  'parent_user_id': 'UGCC72RND'},\n",
       " {'client_msg_id': '95fc4499-762f-44b5-83c6-a726023c31d6',\n",
       "  'type': 'message',\n",
       "  'text': 'Чтобы начать работать рисковиком надо сначала поработать рисковиком',\n",
       "  'user': 'U540P8P8A',\n",
       "  'ts': '1574330322.412300',\n",
       "  'team': 'T040HKJE3',\n",
       "  'user_team': 'T040HKJE3',\n",
       "  'source_team': 'T040HKJE3',\n",
       "  'user_profile': {'avatar_hash': 'g3d16749cf9e',\n",
       "   'image_72': 'https://secure.gravatar.com/avatar/113d16749cf9ef6dcf125878df523f9c.jpg?s=72&d=https%3A%2F%2Fa.slack-edge.com%2Fdf10d%2Fimg%2Favatars%2Fava_0010-72.png',\n",
       "   'first_name': 'Alex',\n",
       "   'real_name': 'Alex Belozersky',\n",
       "   'display_name': 'bronevik',\n",
       "   'team': 'T040HKJE3',\n",
       "   'name': 'belozersky',\n",
       "   'is_restricted': False,\n",
       "   'is_ultra_restricted': False},\n",
       "  'blocks': [{'type': 'rich_text',\n",
       "    'block_id': '3THCa',\n",
       "    'elements': [{'type': 'rich_text_section',\n",
       "      'elements': [{'type': 'text',\n",
       "        'text': 'Чтобы начать работать рисковиком надо сначала поработать рисковиком'}]}]}],\n",
       "  'thread_ts': '1574273608.381000',\n",
       "  'parent_user_id': 'UGCC72RND',\n",
       "  'reactions': [{'name': 'true-story', 'users': ['UFSTXBQ7K'], 'count': 1}]},\n",
       " {'client_msg_id': 'ebe9474c-95e9-40f2-9488-35e793bf8089',\n",
       "  'type': 'message',\n",
       "  'text': 'наконец хоть кто-то честно признался и произнес вслух, что data science синьоров в природе не бывает',\n",
       "  'user': 'U64GCA997',\n",
       "  'ts': '1574333160.415600',\n",
       "  'team': 'T040HKJE3',\n",
       "  'user_team': 'T040HKJE3',\n",
       "  'source_team': 'T040HKJE3',\n",
       "  'user_profile': {'avatar_hash': '2dd94c6164f7',\n",
       "   'image_72': 'https://avatars.slack-edge.com/2017-07-11/211554884135_2dd94c6164f7feb7b439_72.jpg',\n",
       "   'first_name': 'Dmitriy',\n",
       "   'real_name': 'Dmitriy Gorelov',\n",
       "   'display_name': 'datasanta',\n",
       "   'team': 'T040HKJE3',\n",
       "   'name': 'dmitriy_gorelov',\n",
       "   'is_restricted': False,\n",
       "   'is_ultra_restricted': False},\n",
       "  'blocks': [{'type': 'rich_text',\n",
       "    'block_id': 'UMC',\n",
       "    'elements': [{'type': 'rich_text_section',\n",
       "      'elements': [{'type': 'text',\n",
       "        'text': 'наконец хоть кто-то честно признался и произнес вслух, что data science синьоров в природе не бывает'}]}]}],\n",
       "  'thread_ts': '1574324353.405000',\n",
       "  'parent_user_id': 'U6X06R596',\n",
       "  'reactions': [{'name': 'ppleskov',\n",
       "    'users': ['U6GHF30CV', 'ULA78SEAE'],\n",
       "    'count': 2}]},\n",
       " {'client_msg_id': '896a0549-942a-49af-8e97-0cb75b776f36',\n",
       "  'type': 'message',\n",
       "  'text': 'Андрей, в приват напишу',\n",
       "  'user': 'U52330HTK',\n",
       "  'ts': '1574333259.416000',\n",
       "  'team': 'T040HKJE3',\n",
       "  'user_team': 'T040HKJE3',\n",
       "  'source_team': 'T040HKJE3',\n",
       "  'user_profile': {'avatar_hash': 'g89b7857a8bc',\n",
       "   'image_72': 'https://secure.gravatar.com/avatar/d589b7857a8bc079b85c5575facbd2ea.jpg?s=72&d=https%3A%2F%2Fa.slack-edge.com%2Fdf10d%2Fimg%2Favatars%2Fava_0009-72.png',\n",
       "   'first_name': 'Roman',\n",
       "   'real_name': 'Roman Koshelev',\n",
       "   'display_name': 'Roman Koshelev',\n",
       "   'team': 'T040HKJE3',\n",
       "   'name': 'romakosh',\n",
       "   'is_restricted': False,\n",
       "   'is_ultra_restricted': False},\n",
       "  'thread_ts': '1574314111.394300',\n",
       "  'parent_user_id': 'U52330HTK'},\n",
       " {'client_msg_id': '50d96766-8114-4e26-ba6f-21b0773e6591',\n",
       "  'type': 'message',\n",
       "  'text': 'Андрей, в Яндекс прошёл, в Сбер нет. Баланс сил в галактике изменился:not-sure-if:',\n",
       "  'user': 'UDSJHKRNC',\n",
       "  'ts': '1574333436.416400',\n",
       "  'team': 'T040HKJE3',\n",
       "  'user_team': 'T040HKJE3',\n",
       "  'source_team': 'T040HKJE3',\n",
       "  'user_profile': {'avatar_hash': 'd18bca68341d',\n",
       "   'image_72': 'https://avatars.slack-edge.com/2018-12-26/511616843572_d18bca68341d2439bb1b_72.jpg',\n",
       "   'first_name': 'Anton',\n",
       "   'real_name': 'Anton',\n",
       "   'display_name': 'noob_saibot',\n",
       "   'team': 'T040HKJE3',\n",
       "   'name': 'halo2olah90',\n",
       "   'is_restricted': False,\n",
       "   'is_ultra_restricted': False},\n",
       "  'edited': {'user': 'UDSJHKRNC', 'ts': '1574333507.000000'},\n",
       "  'blocks': [{'type': 'rich_text',\n",
       "    'block_id': 'yI9vz',\n",
       "    'elements': [{'type': 'rich_text_section',\n",
       "      'elements': [{'type': 'text',\n",
       "        'text': 'Андрей, в Яндекс прошёл, в Сбер нет. Баланс сил в галактике изменился'},\n",
       "       {'type': 'emoji', 'name': 'not-sure-if'}]}]}],\n",
       "  'thread_ts': '1574314111.394300',\n",
       "  'parent_user_id': 'U52330HTK',\n",
       "  'reactions': [{'name': 'kekeke',\n",
       "    'users': ['U7DTGC4PL',\n",
       "     'U7N4E8GBF',\n",
       "     'U9YC38N57',\n",
       "     'UM5DXE4LE',\n",
       "     'UM7UFHTR8',\n",
       "     'UPA0PA8AE'],\n",
       "    'count': 6}]},\n",
       " {'client_msg_id': '3dc22ef8-73e8-4a7a-adff-091ff460648d',\n",
       "  'type': 'message',\n",
       "  'text': 'RTX 2080 или GTX 1080 в каком-то символе у вас опечатка.',\n",
       "  'user': 'U6GHF30CV',\n",
       "  'ts': '1574334201.418200',\n",
       "  'team': 'T040HKJE3',\n",
       "  'user_team': 'T040HKJE3',\n",
       "  'source_team': 'T040HKJE3',\n",
       "  'user_profile': {'avatar_hash': 'f98f372ced13',\n",
       "   'image_72': 'https://avatars.slack-edge.com/2019-01-12/523414790167_f98f372ced13e3d12c31_72.jpg',\n",
       "   'first_name': 'Anton',\n",
       "   'real_name': 'Anton Pimenov',\n",
       "   'display_name': 'i7p9h9',\n",
       "   'team': 'T040HKJE3',\n",
       "   'name': 'i7p9h9',\n",
       "   'is_restricted': False,\n",
       "   'is_ultra_restricted': False},\n",
       "  'blocks': [{'type': 'rich_text',\n",
       "    'block_id': 'Ncw=',\n",
       "    'elements': [{'type': 'rich_text_section',\n",
       "      'elements': [{'type': 'text',\n",
       "        'text': 'RTX 2080 или GTX 1080 в каком-то символе у вас опечатка.'}]}]}],\n",
       "  'thread_ts': '1574324353.405000',\n",
       "  'parent_user_id': 'U6X06R596',\n",
       "  'reactions': [{'name': 'heavy_plus_sign',\n",
       "    'users': ['ULPRYQNS2',\n",
       "     'U7DEPRKCZ',\n",
       "     'U9V48C738',\n",
       "     'UCB3HLCFQ',\n",
       "     'UPXF90USE',\n",
       "     'UPHR2KGHH',\n",
       "     'U302AALBS'],\n",
       "    'count': 7}]},\n",
       " {'client_msg_id': '77ce62e7-dc1e-42b5-a2db-4d0486821cd1',\n",
       "  'type': 'message',\n",
       "  'text': '<@UQFFEV8UX> погуглите в _jobs фразу \"на крутую галеру\". Только писать надо теперь Никите Сыхраннову <mailto:sykhrannov.n.e@sberbank.ru|sykhrannov.n.e@sberbank.ru>',\n",
       "  'user': 'U52330HTK',\n",
       "  'ts': '1574335557.419000',\n",
       "  'team': 'T040HKJE3',\n",
       "  'user_team': 'T040HKJE3',\n",
       "  'source_team': 'T040HKJE3',\n",
       "  'user_profile': {'avatar_hash': 'g89b7857a8bc',\n",
       "   'image_72': 'https://secure.gravatar.com/avatar/d589b7857a8bc079b85c5575facbd2ea.jpg?s=72&d=https%3A%2F%2Fa.slack-edge.com%2Fdf10d%2Fimg%2Favatars%2Fava_0009-72.png',\n",
       "   'first_name': 'Roman',\n",
       "   'real_name': 'Roman Koshelev',\n",
       "   'display_name': 'Roman Koshelev',\n",
       "   'team': 'T040HKJE3',\n",
       "   'name': 'romakosh',\n",
       "   'is_restricted': False,\n",
       "   'is_ultra_restricted': False},\n",
       "  'edited': {'user': 'U52330HTK', 'ts': '1574335724.000000'},\n",
       "  'thread_ts': '1574314111.394300',\n",
       "  'parent_user_id': 'U52330HTK',\n",
       "  'reactions': [{'name': 'rowing-galera',\n",
       "    'users': ['U27SUBTB9', 'UPA0PA8AE'],\n",
       "    'count': 2}]},\n",
       " {'client_msg_id': '46D35E43-4DD3-4013-AA6D-993A46ED057C',\n",
       "  'type': 'message',\n",
       "  'text': 'Почему все ставят ладьи?',\n",
       "  'user': 'UEMR0PRQV',\n",
       "  'ts': '1574339610.423000',\n",
       "  'team': 'T040HKJE3',\n",
       "  'user_team': 'T040HKJE3',\n",
       "  'source_team': 'T040HKJE3',\n",
       "  'user_profile': {'avatar_hash': 'bdf138dac290',\n",
       "   'image_72': 'https://avatars.slack-edge.com/2019-08-07/721492546022_bdf138dac2905a6dd5f5_72.jpg',\n",
       "   'first_name': 'Alex',\n",
       "   'real_name': 'Alex Dikov',\n",
       "   'display_name': 'Alex Dikov',\n",
       "   'team': 'T040HKJE3',\n",
       "   'name': 'alexdikov222',\n",
       "   'is_restricted': False,\n",
       "   'is_ultra_restricted': False},\n",
       "  'thread_ts': '1574273608.381000',\n",
       "  'parent_user_id': 'UGCC72RND'},\n",
       " {'client_msg_id': '0696ceec-05f2-4f4f-b8ee-ac3c33f6eeae',\n",
       "  'type': 'message',\n",
       "  'text': 'По всем вопросам обращайтесь в телеграме: @aav_HR . CV нужно отправлять туда же',\n",
       "  'user': 'U6X06R596',\n",
       "  'ts': '1574349938.426400',\n",
       "  'team': 'T040HKJE3',\n",
       "  'user_team': 'T040HKJE3',\n",
       "  'source_team': 'T040HKJE3',\n",
       "  'user_profile': {'avatar_hash': '82d5656665ba',\n",
       "   'image_72': 'https://avatars.slack-edge.com/2019-11-21/835540675201_82d5656665bab3d42010_72.jpg',\n",
       "   'first_name': 'RAUF',\n",
       "   'real_name': 'RAUF YAGFAROV',\n",
       "   'display_name': 'RocketFlash',\n",
       "   'team': 'T040HKJE3',\n",
       "   'name': 'goodraff',\n",
       "   'is_restricted': False,\n",
       "   'is_ultra_restricted': False},\n",
       "  'blocks': [{'type': 'rich_text',\n",
       "    'block_id': 'd0Rg',\n",
       "    'elements': [{'type': 'rich_text_section',\n",
       "      'elements': [{'type': 'text',\n",
       "        'text': 'По всем вопросам обращайтесь в телеграме: @aav_HR . CV нужно отправлять туда же'}]}]}],\n",
       "  'thread_ts': '1574324353.405000',\n",
       "  'parent_user_id': 'U6X06R596'}]"
      ]
     },
     "execution_count": 14,
     "metadata": {},
     "output_type": "execute_result"
    }
   ],
   "source": [
    "job_dict"
   ]
  },
  {
   "cell_type": "code",
   "execution_count": 15,
   "metadata": {
    "pycharm": {
     "is_executing": false,
     "metadata": false,
     "name": "#%%\n"
    }
   },
   "outputs": [
    {
     "data": {
      "text/plain": [
       "['&gt; даже если не получится, мы дадим обратную связь по интервью и потом можем еще выслать пример для прокачки скилов.',\n",
       " 'В моем случае даже отказ внятно не сформулировали, не говоря уже о примерах для прокачки.']"
      ]
     },
     "execution_count": 15,
     "metadata": {},
     "output_type": "execute_result"
    }
   ],
   "source": [
    "job_dict[0][\"text\"].split(\"\\n\")"
   ]
  },
  {
   "cell_type": "code",
   "execution_count": 16,
   "metadata": {},
   "outputs": [],
   "source": [
    "def get_reactions(data: dict):\n",
    "    reactions = data.get(\"reactions\", [])\n",
    "    return reactions\n",
    "    \n",
    "def count_reactions(reactions):\n",
    "    count = 0\n",
    "    for rea in reactions:\n",
    "        count += rea.get(\"count\")\n",
    "    return count"
   ]
  },
  {
   "cell_type": "code",
   "execution_count": 49,
   "metadata": {},
   "outputs": [],
   "source": [
    "SKIP_MSG_ID = {\n",
    "    \"f3f51036-edcf-466d-b34e-3dbe70ab97af\", \n",
    "    \"28E954FF-E0B0-46C9-9931-26E0888C172C\", \n",
    "    \"eefe5f1c-5da8-4723-ab0d-bb0a9dbf6734\",\n",
    "    \"805e8b8e-2c9d-4849-8db0-3973edc78872\",\n",
    "    \"e68d1f79-64f5-4018-80fd-8324075894f1\",\n",
    "    \"a2004d99-3dd6-4e8f-8f7d-da1df4abb73a\",\n",
    "    \"a134cb0f-311a-4bdd-b628-68c6bd17226b\",\n",
    "    \"367f783f-2f24-4cc6-b190-31749b370de2\",\n",
    "    \"8a80f647-e58d-4a39-a314-75c7cfcc14f5\",\n",
    "    \"1c390ef1-291e-4cca-8ac7-b8ce534a6b28\",\n",
    "    \"ab86e977-8297-4e0a-9ee5-2c2c0f2a8902\",\n",
    "    \"0d8dea90-251c-4d7e-88e8-2c27d7f318e8\",\n",
    "    \"056759f1-6b5b-4da3-a295-830b31304ebc\",\n",
    "    \"379a8924-7ae4-42a3-a081-b52f40d4d66e\",\n",
    "    \"bbab8c62-f139-4907-810a-4c68f669318a\",\n",
    "    \"90f77747-ffa5-4afd-ba98-dd79b0bb6090\",\n",
    "    \"fbe31efe-507d-4c9d-a1b5-82ddb4f4ad8e\",\n",
    "    \"346cf164-f9b2-401a-ae38-f99867b2d969\",\n",
    "    \"547ea055-9b0c-480a-841c-1307575dd87a\",\n",
    "    \"38c16c24-8a4b-42df-8219-d87339a1e6a3\",\n",
    "    \"2b1c6326-5609-4e8e-b454-e27dc12f19b8\",\n",
    "}\n",
    "\n",
    "def extract_salary_from_job(data: dict):\n",
    "    if (\n",
    "        data.get('subtype') in (\"tombstone\", \"channel_join\") \n",
    "        or data.get(\"client_msg_id\") in SKIP_MSG_ID \n",
    "        or len(re.findall(r\"[\\d]+\", data[\"text\"])) == 0\n",
    "        or count_reactions(get_reactions(data)) <= 1\n",
    "    ):\n",
    "        return None\n",
    "    salaries = re.findall(r\"\\d{2,3}\\s{0,1}\\d{0,3}[К|к|k]{0,1}[\\s]{0,1}[-|–][\\s]{0,1}\\d{2,3}\\s{0,1}\\d{0,3}[К|к|k]{0,1}\", data[\"text\"])\n",
    "    if len(salaries) != 1:\n",
    "        if data.get(\"client_msg_id\") in {\n",
    "            \"2dfd68eb-13a2-470f-b5db-0d2edba1f1b6\", \n",
    "            \"33f58ac1-1497-488f-afb2-32535f55e037\",\n",
    "            \"826ac662-db26-44c1-9fcd-d191cc41513c\",\n",
    "        }:\n",
    "            return [salaries[1]]\n",
    "        elif len(salaries) == 0 or \"client_msg_id\" not in data:\n",
    "            return None\n",
    "        else:\n",
    "            print(salaries, data[\"client_msg_id\"])\n",
    "    return salaries"
   ]
  },
  {
   "cell_type": "code",
   "execution_count": 50,
   "metadata": {},
   "outputs": [
    {
     "data": {
      "application/vnd.jupyter.widget-view+json": {
       "model_id": "84c71ee5bee94264a736c3d87a9ca9a3",
       "version_major": 2,
       "version_minor": 0
      },
      "text/plain": [
       "HBox(children=(FloatProgress(value=0.0, max=599.0), HTML(value='')))"
      ]
     },
     "metadata": {},
     "output_type": "display_data"
    },
    {
     "name": "stdout",
     "output_type": "stream",
     "text": [
      "['60 000 - 110 000', '110 000 - 190 000', '190 000 - 300 000'] 9b415aed-8a0c-4b23-b4b0-8e6413c9e76a\n",
      "['100-200 ', '619 56-98 '] 2ba00c1b-ba46-44f9-ad60-218494ae79eb\n",
      "['100-170 ', '180-250 '] aaee2eef-3af3-49a3-a048-8a4dfa9585bb\n",
      "['170-250 ', '80-100k'] 90512c69-61f3-4f10-9824-ff0c062e4805\n",
      "['140-150', '45-50'] 833dd0b8-e037-43dd-a7b2-686e3505722a\n",
      "['00 – 18', '00 – 16', '60-200 '] f9803a2b-ee4b-4524-9eda-5f8fe2157322\n",
      "['998-665', '53k-55k'] 5d3e09e8-6b5b-4615-8c18-e52185048839\n",
      "['150-210 ', '210-300 '] ba4aea77-9228-45ae-9a9e-302cefb46c4c\n",
      "['55-70К', '10-15'] 251807f0-d508-44a4-812d-a5a048b47e78\n",
      "['100-180k', '100-180k'] d2dd40f7-572f-4666-9e8c-028672281d9f\n",
      "['70 - 110 ', '110 - 180 '] b43cbf21-9030-4be4-ba4f-ae2aeb5358af\n",
      "['1500-3000', '3000-5000'] c2869a72-f7de-402a-adde-80dddded2e66\n",
      "['200-350К', '200-350 '] a96bf143-0f76-48a7-a894-fcd5944e55b2\n",
      "['100 - 130\\n', '140 - 180\\n', '180 - 250\\n'] 4fbc8bab-af30-4a81-b7db-ab164d1e69f6\n",
      "['90 - 120к', '18-24к'] 6019e8da-549d-43b7-b9a3-3d410377b02a\n",
      "['150 - 200к', '200 - 250к'] f6a2c921-5f95-478d-a172-e2e9449450e7\n",
      "['1600-2600', '3000-3600'] 3a8cb825-97d9-4f66-82eb-8f0d644af47a\n",
      "['150-280к', '11 - 12\\n'] 1813babe-7530-4fcd-a85a-5592b57caa8f\n",
      "['4000-5000', '5000-6000'] ba781e34-3ad2-47db-ac47-bd18d998f27e\n",
      "['130 - 180 ', '190 - 250 ', '80-100 '] ddc676ec-0236-4285-bfa3-0f4535e76e01\n",
      "['2000 - 3500', '2500 - 3500'] ff70963b-f19d-49ca-b969-36a891dab796\n",
      "['180-220к', '220-260к'] a950f778-316c-4f98-b297-57a077671928\n",
      "['180-250', '250-350 '] 8bbbdd47-4d32-4f71-a95f-502ba9b1dc27\n",
      "['90-120к', '130-160к', '90-120к', '130-160к'] 54d1db2b-b868-4ee1-bb64-9d2d07f6ca0c\n",
      "['65-75k', '55-65k'] f24f2a22-7037-4471-af85-0c004ac0e02f\n",
      "\n"
     ]
    }
   ],
   "source": [
    "salaries = []\n",
    "for job_file in tqdm(files_to_use):\n",
    "    with open(jobs_data_path / job_file) as f:\n",
    "        job_dict = json.load(f)\n",
    "    salary = extract_salary_from_job(job_dict[0])\n",
    "    if salary is not None:\n",
    "        salaries += salary"
   ]
  },
  {
   "cell_type": "code",
   "execution_count": 51,
   "metadata": {},
   "outputs": [
    {
     "data": {
      "text/plain": [
       "155"
      ]
     },
     "execution_count": 51,
     "metadata": {},
     "output_type": "execute_result"
    }
   ],
   "source": [
    "len(salaries)"
   ]
  },
  {
   "cell_type": "code",
   "execution_count": 20,
   "metadata": {
    "scrolled": false
   },
   "outputs": [
    {
     "data": {
      "text/plain": [
       "['60 000 - 110 000',\n",
       " '100 - 250 ',\n",
       " '00 - 10',\n",
       " '125-150к',\n",
       " '80 000 - 120 000',\n",
       " '100К – 140К',\n",
       " '150 000 - 300 000',\n",
       " '1700-2500',\n",
       " '000–300',\n",
       " '200-300 ',\n",
       " '100-200 ',\n",
       " '145-190 ',\n",
       " '50-100 ',\n",
       " '100 - 200\\n',\n",
       " '180-280 ',\n",
       " '60-110К',\n",
       " '100-170 ',\n",
       " '60-85k',\n",
       " '200-300 ',\n",
       " '200-230',\n",
       " '170-230 ',\n",
       " '170-250 ',\n",
       " '120 - 190k',\n",
       " '100 - 150К',\n",
       " '150-250 ',\n",
       " '1500 – 3500',\n",
       " '100к - 300к',\n",
       " '100k – 140k',\n",
       " '200-300 ',\n",
       " '160-220 ',\n",
       " '120к – 150к',\n",
       " '50–120 ',\n",
       " '250-350 ',\n",
       " '300к – 360к',\n",
       " '160-220',\n",
       " '800 - 850 ',\n",
       " '200-250к',\n",
       " '140-150',\n",
       " '180-220 ',\n",
       " '350-450 ',\n",
       " '130-195 ',\n",
       " '130-180К',\n",
       " '150-200к',\n",
       " '90-140К',\n",
       " '00 – 18',\n",
       " '998-665',\n",
       " '170-250к',\n",
       " '4000 - 6000',\n",
       " '2500-4000',\n",
       " '250 - 450',\n",
       " '150-200К',\n",
       " '230-300 ',\n",
       " '200-300К',\n",
       " '150-210 ',\n",
       " '55-70К',\n",
       " '150-250к',\n",
       " '120-150 ',\n",
       " '2000-2500',\n",
       " '100-200 ',\n",
       " '11-00',\n",
       " '12-00',\n",
       " '100-180k',\n",
       " '140-200к',\n",
       " '110 - 180 ',\n",
       " '80 000-180\\xa0000',\n",
       " '75000-90000',\n",
       " '130-200 ',\n",
       " '120-180 ',\n",
       " '000–180',\n",
       " '120-220 ',\n",
       " '200к – 300к',\n",
       " '200-400',\n",
       " '70 - 110 ',\n",
       " '20-25 ',\n",
       " '250-350 ',\n",
       " '100К – 140К',\n",
       " '120-150k',\n",
       " '160k - 210k',\n",
       " '1500-3000',\n",
       " '200-350К',\n",
       " '100 - 130\\n',\n",
       " '80-100 ',\n",
       " '200-350 ',\n",
       " '90 - 120к',\n",
       " '200-250 ',\n",
       " '150 - 200к',\n",
       " '1600-2600',\n",
       " '150-280к',\n",
       " '4000-5000',\n",
       " '20-40к',\n",
       " '120 - 150 ',\n",
       " '250-300к',\n",
       " '150-300 ',\n",
       " '200-230к',\n",
       " '130 - 180 ',\n",
       " '2000 - 3500',\n",
       " '150-300к',\n",
       " '13-20',\n",
       " '150-200k',\n",
       " '180-220к',\n",
       " '250-330 ',\n",
       " '200-400К',\n",
       " '180-250',\n",
       " '150-200 ',\n",
       " '150-300k',\n",
       " '2500 - 3500',\n",
       " '160к-250к',\n",
       " '800-1500',\n",
       " '100 - 160К',\n",
       " '120-200к',\n",
       " '100к-300к',\n",
       " '170-200к',\n",
       " '1800-3500',\n",
       " '70-100',\n",
       " '140-200\\n',\n",
       " '90-120к',\n",
       " '65-75k',\n",
       " '220-260 ',\n",
       " '120-200к',\n",
       " '3000-5000',\n",
       " '200-250к',\n",
       " '150-200k',\n",
       " '100-150 ',\n",
       " '50-130 ']"
      ]
     },
     "execution_count": 20,
     "metadata": {},
     "output_type": "execute_result"
    }
   ],
   "source": [
    "salaries"
   ]
  },
  {
   "cell_type": "code",
   "execution_count": 28,
   "metadata": {},
   "outputs": [],
   "source": [
    "def clean_salary(slr):\n",
    "    slr = \"\".join(slr.split())\n",
    "    slr = slr.strip(\"кКk \\n\")\n",
    "    if 3 >= len(slr) >= 2:\n",
    "        slr += \"000\"\n",
    "    elif len(slr) == 4:\n",
    "        return None\n",
    "    slr = int(slr) or None\n",
    "    return slr\n",
    "\n",
    "def parse_salary(line: str):\n",
    "    if \"–\" in line:\n",
    "        low, high = line.split(\"–\")\n",
    "    else:\n",
    "        low, high = line.split(\"-\")\n",
    "        \n",
    "    return low, high"
   ]
  },
  {
   "cell_type": "code",
   "execution_count": 52,
   "metadata": {
    "scrolled": false
   },
   "outputs": [],
   "source": [
    "lows = []\n",
    "highs = []\n",
    "for sal in salaries:\n",
    "    low, high = parse_salary(sal)\n",
    "    low, high = map(clean_salary, (low, high))\n",
    "    if (low is not None) and (high is not None):\n",
    "        lows.append(low/1000)\n",
    "        highs.append(high/1000)"
   ]
  },
  {
   "cell_type": "code",
   "execution_count": 53,
   "metadata": {},
   "outputs": [
    {
     "data": {
      "text/plain": [
       "131"
      ]
     },
     "execution_count": 53,
     "metadata": {},
     "output_type": "execute_result"
    }
   ],
   "source": [
    "len(lows)"
   ]
  },
  {
   "cell_type": "code",
   "execution_count": 54,
   "metadata": {},
   "outputs": [
    {
     "data": {
      "text/plain": [
       "147.48058015267173"
      ]
     },
     "execution_count": 54,
     "metadata": {},
     "output_type": "execute_result"
    }
   ],
   "source": [
    "np.mean(lows)"
   ]
  },
  {
   "cell_type": "code",
   "execution_count": 63,
   "metadata": {},
   "outputs": [
    {
     "data": {
      "text/plain": [
       "<matplotlib.collections.LineCollection at 0x111d07ca0>"
      ]
     },
     "execution_count": 63,
     "metadata": {},
     "output_type": "execute_result"
    },
    {
     "data": {
      "image/png": "[encoded data removed]",
      "text/plain": [
       "<Figure size 1440x720 with 1 Axes>"
      ]
     },
     "metadata": {
      "needs_background": "light"
     },
     "output_type": "display_data"
    }
   ],
   "source": [
    "plt.figure(figsize=(20, 10))\n",
    "plt.hist(lows, alpha=0.5)\n",
    "plt.hist(highs, alpha=0.5)\n",
    "plt.vlines(np.median(lows), 0, 70, color=\"blue\")\n",
    "plt.vlines(np.median(highs), 0, 55, color=\"red\")"
   ]
  },
  {
   "cell_type": "code",
   "execution_count": 64,
   "metadata": {},
   "outputs": [
    {
     "data": {
      "text/plain": [
       "count    131.000000\n",
       "mean     147.480580\n",
       "std      113.412868\n",
       "min       10.000000\n",
       "25%      100.000000\n",
       "50%      130.000000\n",
       "75%      180.000000\n",
       "max      998.000000\n",
       "dtype: float64"
      ]
     },
     "execution_count": 64,
     "metadata": {},
     "output_type": "execute_result"
    }
   ],
   "source": [
    "pd.Series(lows).describe()"
   ]
  },
  {
   "cell_type": "code",
   "execution_count": 65,
   "metadata": {},
   "outputs": [
    {
     "data": {
      "text/plain": [
       "count    131.000000\n",
       "mean     211.480916\n",
       "std      114.123978\n",
       "min       12.000000\n",
       "25%      145.000000\n",
       "50%      200.000000\n",
       "75%      255.000000\n",
       "max      850.000000\n",
       "dtype: float64"
      ]
     },
     "execution_count": 65,
     "metadata": {},
     "output_type": "execute_result"
    }
   ],
   "source": [
    "pd.Series(highs).describe()"
   ]
  },
  {
   "cell_type": "code",
   "execution_count": null,
   "metadata": {},
   "outputs": [],
   "source": []
  }
 ],
 "metadata": {
  "kernelspec": {
   "display_name": "Python 3",
   "language": "python",
   "name": "python3"
  },
  "language_info": {
   "codemirror_mode": {
    "name": "ipython",
    "version": 3
   },
   "file_extension": ".py",
   "mimetype": "text/x-python",
   "name": "python",
   "nbconvert_exporter": "python",
   "pygments_lexer": "ipython3",
   "version": "3.8.2"
  }
 },
 "nbformat": 4,
 "nbformat_minor": 1
}
