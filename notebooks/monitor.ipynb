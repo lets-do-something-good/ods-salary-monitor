{
  "cells": [
    {
      "cell_type": "code",
      "execution_count": 122,
      "metadata": {
        "collapsed": true,
        "pycharm": {
          "is_executing": false
        }
      },
      "outputs": [],
      "source": "import datetime\nimport os\nimport re\nimport json\nfrom collections import Counter\nfrom pathlib import Path\n\n\nimport pandas as pd\nimport numpy as np\n"
    },
    {
      "cell_type": "code",
      "execution_count": 12,
      "outputs": [
        {
          "data": {
            "text/plain": "[(\u0027_random_talks\u0027, 1448),\n (\u0027_meetings\u0027, 1350),\n (\u0027theory_and_practice\u0027, 1322),\n (\u0027deep_learning\u0027, 1320),\n (\u0027lang_python\u0027, 1305),\n (\u0027interesting_links\u0027, 1289),\n (\u0027_jobs\u0027, 1273),\n (\u0027edu_courses\u0027, 1177),\n (\u0027kaggle_crackers\u0027, 1155),\n (\u0027nlp\u0027, 1155)]"
          },
          "metadata": {},
          "output_type": "execute_result",
          "execution_count": 12
        }
      ],
      "source": "data_path \u003d Path(\"../data/mar_12_2015-apr_4_2019\")\n\nchannels \u003d os.listdir(data_path)\nchannels_counts \u003d Counter({\n    c: len(os.listdir(data_path / c)) for c in channels\n    if not c.endswith(\".json\")\n})\nchannels_counts.most_common(10)",
      "metadata": {
        "pycharm": {
          "metadata": false,
          "name": "#%%\n",
          "is_executing": false
        }
      }
    },
    {
      "cell_type": "markdown",
      "source": "# Jobs analytics\n",
      "metadata": {
        "pycharm": {
          "metadata": false,
          "name": "#%% md\n"
        }
      }
    },
    {
      "cell_type": "code",
      "execution_count": 24,
      "outputs": [],
      "source": "jobs_data_path \u003d data_path / \"_top_jobs\"\n\ndates \u003d [datetime.datetime.strptime(d.split(\u0027.\u0027)[0], \"%Y-%m-%d\") \n         for d in os.listdir(jobs_data_path)]",
      "metadata": {
        "pycharm": {
          "metadata": false,
          "name": "#%%\n",
          "is_executing": false
        }
      }
    },
    {
      "cell_type": "code",
      "execution_count": 25,
      "outputs": [
        {
          "data": {
            "text/plain": "Counter({2019: 8, 2018: 11})"
          },
          "metadata": {},
          "output_type": "execute_result",
          "execution_count": 25
        }
      ],
      "source": "# Top years\nCounter((d.year for d in dates))\n",
      "metadata": {
        "pycharm": {
          "metadata": false,
          "name": "#%%\n",
          "is_executing": false
        }
      }
    },
    {
      "cell_type": "code",
      "execution_count": 26,
      "outputs": [
        {
          "data": {
            "text/plain": "[(3, 4), (12, 3), (2, 3), (8, 3), (11, 2), (1, 1), (9, 1), (4, 1), (7, 1)]"
          },
          "metadata": {},
          "output_type": "execute_result",
          "execution_count": 26
        }
      ],
      "source": "# Top months\nCounter((d.month for d in dates)).most_common(12)\n\n",
      "metadata": {
        "pycharm": {
          "metadata": false,
          "name": "#%%\n",
          "is_executing": false
        }
      }
    },
    {
      "cell_type": "code",
      "execution_count": 31,
      "outputs": [],
      "source": "# select vacancies from 2019\n\nfiles_to_use \u003d [f\"{d.strftime(\u0027%Y-%m-%d\u0027)}.json\" \n                    for d in dates if d.year \u003d\u003d 2019]",
      "metadata": {
        "pycharm": {
          "metadata": false,
          "name": "#%%\n",
          "is_executing": false
        }
      }
    },
    {
      "cell_type": "code",
      "execution_count": 32,
      "outputs": [
        {
          "data": {
            "text/plain": "8"
          },
          "metadata": {},
          "output_type": "execute_result",
          "execution_count": 32
        }
      ],
      "source": "len(files_to_use)",
      "metadata": {
        "pycharm": {
          "metadata": false,
          "name": "#%%\n",
          "is_executing": false
        }
      }
    },
    {
      "cell_type": "code",
      "execution_count": 109,
      "outputs": [],
      "source": "def extract_salary_from_top_job(data: dict, city\u003d\":spb:\"):\n    rlist \u003d []\n    for line in data[\"text\"].split(\"\\n\"):\n        if city in line:\n            if \":fork\" in line:\n                rlist.append((line,\n                              re.findall(\"\\*[A-Za-zа-яА-Я ]+\\* by\", line),\n                              [*map(int, re.findall(r\"[0-9]+\", line.split(\":fork:\")[1]))]))\n            \n    return rlist\n\n",
      "metadata": {
        "pycharm": {
          "metadata": false,
          "name": "#%%\n",
          "is_executing": false
        }
      }
    },
    {
      "cell_type": "code",
      "execution_count": 34,
      "outputs": [],
      "source": "with open(jobs_data_path / files_to_use[0]) as f:\n    job_dict \u003d json.load(f)",
      "metadata": {
        "pycharm": {
          "metadata": false,
          "name": "#%%\n",
          "is_executing": false
        }
      }
    },
    {
      "cell_type": "code",
      "execution_count": 41,
      "outputs": [
        {
          "data": {
            "text/plain": "[\u0027:cryptoparrot: *ODS дайджест вакансий:* 1 января — 16 января 2019 :moneyparrot:\u0027,\n \u0027\u0027,\n \u0027*iPavlov*, Москва :default-city: : *Python программист* by \u003c@U8EPE4WG6\u003e :fork: *125-165k*\u0027,\n \u0027*Задачи:* Создавать решения для конечных пользователей, адаптировать существующие алгоритмы и разрабатывать новые для решения прикладных задач\u0027,\n \u0027*Требования:*  :python: :neuralnet:, плюсом :tensorflow: :nlp: контрибьюция в open-source проекты\u0027,\n \u0027\u003chttps://opendatascience.slack.com/archives/C04DA5FUF/p1546213578476000\u003e\u0027,\n \u0027\u0027,\n \u0027*FaceChain*, Санкт-Петербург :spb: : *Data Scientist* by \u003c@UD8RBM06S\u003e :fork: *80-200k*\u0027,\n \u0027*Задачи:* Детекция и распознование лиц, антиспуффинг\u0027,\n \u0027*Требования:*  :python: :pytorch: OpenCV\u0027,\n \u0027\u003chttps://opendatascience.slack.com/archives/C04DA5FUF/p1547043026689000\u003e\u0027,\n \u0027\u0027,\n \u0027*Институт развития интернета*, Москва :default-city:  : *Data Scientist* by \u003c@U86E2ECGZ\u003e :fork: *100-120k*\u0027,\n \u0027*Задачи:* Проводить различные исследования открытых данных\u0027,\n \u0027*Требования:*  Опыт в анализе данных и машинном обучении, плюсом знания фронтэнда\u0027,\n \u0027\u003chttps://opendatascience.slack.com/archives/C04DA5FUF/p1547152228791000\u003e\u0027,\n \u0027\u0027,\n \u0027*\u003chttp://ivi.ru|ivi.ru\u003e*, Москва :default-city:  : *Deep Learning Engineer* by \u003c@U3W85TQBE\u003e :fork: *140-200k*\u0027,\n \u0027*Задачи:* Преобразование видеоконтента в 4К и HDR, выделение хайлайтов в видео, создание embedding-ов картинок и видео\u0027,\n \u0027*Требования:*  :python: :tensorflow: :panda: scikit-learn, Linux (basd, sed, grep), английский язык, плюсом :sql: :hadoop: :spark: Hive, Yarn\u0027,\n \u0027\u003chttps://opendatascience.slack.com/archives/C04DA5FUF/p1547207360813300\u003e\u0027,\n \u0027\u0027,\n \u0027*C7 Техлаб*, Москва :default-city:  : *MIddle/Senior Machine Learning Engineer* by \u003c@U3TF60E65\u003e :fork: *150-250k/250-350k*\u0027,\n \u0027*Задачи:* Подбирать оптимальный набор алгоритмов для задачи, стрить пайплайны построения признаков и обучения моделей, разрабатывать архитектуру решений, оптимизировать решения DS-ов, выводить решения в прод\u0027,\n \u0027*Требования:* :python: :cpp:, плюсом (:scala::java:), :kubernetes:, :aws: Lambda, опыт работы DE/DS/SE от 3 лет, опыт оптимизации ML моделей, Linux (bash, sed, awk)\u0027,\n \u0027\u003chttps://opendatascience.slack.com/archives/C04DA5FUF/p1547212590820100\u003e\u0027,\n \u0027\u0027,\n \u0027*QIWI*, Москва :default-city:  : *Lead Data Scientist* by \u003c@U3JUB9PB9\u003e :fork: *150-210k*\u0027,\n \u0027*Задачи:* Курировать команду аналитиков, разработка модели для выявления клиентов, осуществляющих сомнительную деятельность\u0027,\n \u0027*Требования:* :python: :panda::tensorflow: :keras:  scikit-learn, seaborn, networkx, практический опыт ML, :sql: BI :tableau:, Big data\u0027,\n \u0027\u003chttps://opendatascience.slack.com/archives/C04DA5FUF/p1547466564895000\u003e\u0027,\n \u0027\u0027,\n \u0027*Yousician*, Helsinki :flag-fi:: *Data Engineer* by \u003c@UFDAR7JTT\u003e :fork: *€3.5-5k*\u0027,\n \u0027*Задачи:* Develop and maintain data pipeline, improve the scaling, optimization, tests and internal tools to enhance data quality \u0026amp; reliability\u0027,\n \u0027*Требования:* Experience in building or maintaining DWH or ETL pipeline, hands-on experience with DWH technologies (:hadoop::spark:, Redshift, Druid, Apache Drill), experience with TDD in :python: :sql: , Linux, :aws: GCP, Airflow\u0027,\n \u0027\u003chttps://opendatascience.slack.com/archives/C04DA5FUF/p1547556463029400\u003e\u0027,\n \u0027\u0027,\n \u0027*Jetlex*, Москва :default-city:: *NLP Data Scientist* by \u003c@UBUCAUEFJ\u003e :fork: *200-260k*\u0027,\n \u0027*Задачи:* OCR + Fact Extraction из юридических документов\u0027,\n \u0027*Требования:* опыт DS/NLP от 2 лет, опыт применения :xgboost: :neuralnet: , плюсом знания в CV и  OCR\u0027,\n \u0027\u003chttps://opendatascience.slack.com/archives/C04DA5FUF/p1547577905063700\u003e\u0027,\n \u0027\u0027,\n \u0027*Сбербанк*, Москва :default-city:: *Data Scientist* by \u003c@U5GB71SCX\u003e :fork: *120-200k*\u0027,\n \u0027*Задачи:*  Выявление именных сущностей, дедубликация, тематическое моделирование, классификация новостей, выявление событий в новости\u0027,\n \u0027*Требования:* :python: :pytorch: :tensorflow: scikit-learn, Linux, Git, опыт DS от года, плюсом знания в NLP\u0027,\n \u0027\u003chttps://opendatascience.slack.com/archives/C04DA5FUF/p1547627021079000\u003e\u0027]"
          },
          "metadata": {},
          "output_type": "execute_result",
          "execution_count": 41
        }
      ],
      "source": "job_dict[0][\"text\"].split(\"\\n\")",
      "metadata": {
        "pycharm": {
          "metadata": false,
          "name": "#%%\n",
          "is_executing": false
        }
      }
    },
    {
      "cell_type": "code",
      "execution_count": 135,
      "outputs": [],
      "source": "stats \u003d []\nfor job_file in files_to_use:\n    with open(jobs_data_path / job_file) as f:\n        job_dict \u003d json.load(f)\n    for d in job_dict:\n        stats.extend(extract_salary_from_top_job(d, \":default-city:\"))\n        stats.extend(extract_salary_from_top_job(d, \":spb:\"))\n",
      "metadata": {
        "pycharm": {
          "metadata": false,
          "name": "#%%\n",
          "is_executing": false
        }
      }
    },
    {
      "cell_type": "code",
      "execution_count": 136,
      "outputs": [
        {
          "data": {
            "text/plain": "[(\u0027*iPavlov*, Москва :default-city: : *Python программист* by \u003c@U8EPE4WG6\u003e :fork: *125-165k*\u0027,\n  [\u0027*Python программист* by\u0027],\n  [125, 165]),\n (\u0027*Институт развития интернета*, Москва :default-city:  : *Data Scientist* by \u003c@U86E2ECGZ\u003e :fork: *100-120k*\u0027,\n  [\u0027*Data Scientist* by\u0027],\n  [100, 120]),\n (\u0027*\u003chttp://ivi.ru|ivi.ru\u003e*, Москва :default-city:  : *Deep Learning Engineer* by \u003c@U3W85TQBE\u003e :fork: *140-200k*\u0027,\n  [\u0027*Deep Learning Engineer* by\u0027],\n  [140, 200]),\n (\u0027*C7 Техлаб*, Москва :default-city:  : *MIddle/Senior Machine Learning Engineer* by \u003c@U3TF60E65\u003e :fork: *150-250k/250-350k*\u0027,\n  [],\n  [150, 250, 250, 350]),\n (\u0027*QIWI*, Москва :default-city:  : *Lead Data Scientist* by \u003c@U3JUB9PB9\u003e :fork: *150-210k*\u0027,\n  [\u0027*Lead Data Scientist* by\u0027],\n  [150, 210]),\n (\u0027*Jetlex*, Москва :default-city:: *NLP Data Scientist* by \u003c@UBUCAUEFJ\u003e :fork: *200-260k*\u0027,\n  [\u0027*NLP Data Scientist* by\u0027],\n  [200, 260]),\n (\u0027*Сбербанк*, Москва :default-city:: *Data Scientist* by \u003c@U5GB71SCX\u003e :fork: *120-200k*\u0027,\n  [\u0027*Data Scientist* by\u0027],\n  [120, 200]),\n (\u0027*FaceChain*, Санкт-Петербург :spb: : *Data Scientist* by \u003c@UD8RBM06S\u003e :fork: *80-200k*\u0027,\n  [\u0027*Data Scientist* by\u0027],\n  [80, 200]),\n (\u0027*Skyeng* , Москва :default-city: / удалёнка :palm_tree:: *Специалист по анализу видео* by \u003c@U5G25HMS9\u003e :fork: *150-250k*\u0027,\n  [\u0027*Специалист по анализу видео* by\u0027],\n  [150, 250]),\n (\u0027*Okko*, Санкт-Петербург :spb: : *Data Scientist* by \u003c@U6YTYEJR4\u003e :fork: *100-160k*\u0027,\n  [\u0027*Data Scientist* by\u0027],\n  [100, 160]),\n (\u0027*Wrike*, Санкт-Петербург :spb: : *Data Scientist* by \u003c@U8CMHHBU2\u003e :fork: *150-250k*\u0027,\n  [\u0027*Data Scientist* by\u0027],\n  [150, 250]),\n (\u0027*Segmento*, Санкт-Петербург :spb: : *Middle/ Senior Data Scientist* by \u003c@U9B17DQUV\u003e :fork: *120-170k/ 180-230k*\u0027,\n  [],\n  [120, 170, 180, 230]),\n (\u0027*VK*,  + Москва :default-city:: *Senior Machine Learning Research Engineer* by \u003c@U04FHEY0M\u003e :fork: *200-300k*\u0027,\n  [\u0027*Senior Machine Learning Research Engineer* by\u0027],\n  [200, 300]),\n (\u0027*Poteha Labs* , Москва :default-city: : *Middle ML Engineer* by \u003c@U17S9F6KV\u003e :fork: *120-200k*\u0027,\n  [\u0027*Middle ML Engineer* by\u0027],\n  [120, 200]),\n (\u0027*X5* , Москва :default-city: : *Data Scientist* by \u003c@U2LGQMC4D\u003e :fork: *200-240k + 60/72k*\u0027,\n  [\u0027*Data Scientist* by\u0027],\n  [200, 240, 60, 72]),\n (\u0027*Gazprom media* , Москва :default-city: : *Middle Data Scientist* by \u003c@U2AJE72Q6\u003e :fork: *100-170k*\u0027,\n  [\u0027*Middle Data Scientist* by\u0027],\n  [100, 170]),\n (\u0027*SEMrush*, Санкт-Петербург :spb: : *Data Scientist* by \u003c@U4BBNMQ03\u003e :fork: *150-180k*\u0027,\n  [\u0027*Data Scientist* by\u0027],\n  [150, 180]),\n (\u0027*ВКонтакте*, Санкт-Петербург :spb: : *Machine Learning Research Engineer* by \u003c@U099YUD1S\u003e :fork: *100-300k*\u0027,\n  [\u0027*Machine Learning Research Engineer* by\u0027],\n  [100, 300]),\n (\u0027*РИА Новости*, Москва :default-city: : *Data Scientist* by \u003c@U7CAU0GMU\u003e :fork: *80-130k*\u0027,\n  [\u0027*Data Scientist* by\u0027],\n  [80, 130]),\n (\u0027*AR/VR Лаборатория Сбербанка*, Москва :default-city: : *Senior IOS-разработчик со знанием CV и DL* by \u003c@UFJH6JQ4E\u003e :fork: *230-300k*\u0027,\n  [],\n  [230, 300]),\n (\u0027*Тинькофф Банк*, Москва :default-city: : *Junior Data Scientist* by \u003c@U2FM0GQUE\u003e :fork: *60-100k*\u0027,\n  [\u0027*Junior Data Scientist* by\u0027],\n  [60, 100]),\n (\u0027*Яндекс*, Москва :default-city: : *Разработчик систем калибровок* by \u003c@U0VLLEKGX\u003e :fork: *140-300k*\u0027,\n  [\u0027*Разработчик систем калибровок* by\u0027],\n  [140, 300]),\n (\u0027*Huawei*, Москва :default-city: : *Video / Camera AI Expert* by \u003c@U1UJG8QFJ\u003e :fork: *60-300k*\u0027,\n  [],\n  [60, 300]),\n (\u0027*Kinetik*, Москва :default-city: : *Data Scientist* by \u003c@UDXM2H6MA\u003e :fork: *150-200k*\u0027,\n  [\u0027*Data Scientist* by\u0027],\n  [150, 200]),\n (\u0027*X5 Retail Group*, Москва :default-city: : *Computational Linguist* by \u003c@U2LGQMC4D\u003e :fork: *150к-250к + 45-75k*\u0027,\n  [\u0027*Computational Linguist* by\u0027],\n  [150, 250, 45, 75]),\n (\u0027*Алгомост* , Москва :default-city: : *Data Scientist* by \u003c@UBK9444P5\u003e :fork: *120-200k*\u0027,\n  [\u0027*Data Scientist* by\u0027],\n  [120, 200]),\n (\u0027*ID R\u0026amp;D* , Санкт-Петербург :spb: : *ML инженер* by \u003c@U78BSPA4X\u003e :fork: *150-300k*\u0027,\n  [\u0027*ML инженер* by\u0027],\n  [150, 300])]"
          },
          "metadata": {},
          "output_type": "execute_result",
          "execution_count": 136
        }
      ],
      "source": "stats",
      "metadata": {
        "pycharm": {
          "metadata": false,
          "name": "#%%\n",
          "is_executing": false
        }
      }
    },
    {
      "cell_type": "code",
      "execution_count": 137,
      "outputs": [],
      "source": "include_job_titles \u003d {\"Data Scientist\", \"ML\", \"Machine Learning\", \"Middle\"}\nexclude_job_titles \u003d {\"Senior\", \"Junior\", \"Lead\", \"Video\", \"калибровок\"}\n\nfiltered_jobs \u003d []\n\nfor job in stats:\n    exclude \u003d False\n    for ejt in exclude_job_titles:\n        exclude \u003d ejt in job[0]\n        if exclude:\n            break\n    if exclude:\n        continue\n    \n    filtered_jobs.append(job)",
      "metadata": {
        "pycharm": {
          "metadata": false,
          "name": "#%%\n",
          "is_executing": false
        }
      }
    },
    {
      "cell_type": "code",
      "execution_count": 138,
      "outputs": [
        {
          "data": {
            "text/plain": "[(\u0027*iPavlov*, Москва :default-city: : *Python программист* by \u003c@U8EPE4WG6\u003e :fork: *125-165k*\u0027,\n  [\u0027*Python программист* by\u0027],\n  [125, 165]),\n (\u0027*Институт развития интернета*, Москва :default-city:  : *Data Scientist* by \u003c@U86E2ECGZ\u003e :fork: *100-120k*\u0027,\n  [\u0027*Data Scientist* by\u0027],\n  [100, 120]),\n (\u0027*\u003chttp://ivi.ru|ivi.ru\u003e*, Москва :default-city:  : *Deep Learning Engineer* by \u003c@U3W85TQBE\u003e :fork: *140-200k*\u0027,\n  [\u0027*Deep Learning Engineer* by\u0027],\n  [140, 200]),\n (\u0027*Jetlex*, Москва :default-city:: *NLP Data Scientist* by \u003c@UBUCAUEFJ\u003e :fork: *200-260k*\u0027,\n  [\u0027*NLP Data Scientist* by\u0027],\n  [200, 260]),\n (\u0027*Сбербанк*, Москва :default-city:: *Data Scientist* by \u003c@U5GB71SCX\u003e :fork: *120-200k*\u0027,\n  [\u0027*Data Scientist* by\u0027],\n  [120, 200]),\n (\u0027*FaceChain*, Санкт-Петербург :spb: : *Data Scientist* by \u003c@UD8RBM06S\u003e :fork: *80-200k*\u0027,\n  [\u0027*Data Scientist* by\u0027],\n  [80, 200]),\n (\u0027*Skyeng* , Москва :default-city: / удалёнка :palm_tree:: *Специалист по анализу видео* by \u003c@U5G25HMS9\u003e :fork: *150-250k*\u0027,\n  [\u0027*Специалист по анализу видео* by\u0027],\n  [150, 250]),\n (\u0027*Okko*, Санкт-Петербург :spb: : *Data Scientist* by \u003c@U6YTYEJR4\u003e :fork: *100-160k*\u0027,\n  [\u0027*Data Scientist* by\u0027],\n  [100, 160]),\n (\u0027*Wrike*, Санкт-Петербург :spb: : *Data Scientist* by \u003c@U8CMHHBU2\u003e :fork: *150-250k*\u0027,\n  [\u0027*Data Scientist* by\u0027],\n  [150, 250]),\n (\u0027*Poteha Labs* , Москва :default-city: : *Middle ML Engineer* by \u003c@U17S9F6KV\u003e :fork: *120-200k*\u0027,\n  [\u0027*Middle ML Engineer* by\u0027],\n  [120, 200]),\n (\u0027*X5* , Москва :default-city: : *Data Scientist* by \u003c@U2LGQMC4D\u003e :fork: *200-240k + 60/72k*\u0027,\n  [\u0027*Data Scientist* by\u0027],\n  [200, 240, 60, 72]),\n (\u0027*Gazprom media* , Москва :default-city: : *Middle Data Scientist* by \u003c@U2AJE72Q6\u003e :fork: *100-170k*\u0027,\n  [\u0027*Middle Data Scientist* by\u0027],\n  [100, 170]),\n (\u0027*SEMrush*, Санкт-Петербург :spb: : *Data Scientist* by \u003c@U4BBNMQ03\u003e :fork: *150-180k*\u0027,\n  [\u0027*Data Scientist* by\u0027],\n  [150, 180]),\n (\u0027*ВКонтакте*, Санкт-Петербург :spb: : *Machine Learning Research Engineer* by \u003c@U099YUD1S\u003e :fork: *100-300k*\u0027,\n  [\u0027*Machine Learning Research Engineer* by\u0027],\n  [100, 300]),\n (\u0027*РИА Новости*, Москва :default-city: : *Data Scientist* by \u003c@U7CAU0GMU\u003e :fork: *80-130k*\u0027,\n  [\u0027*Data Scientist* by\u0027],\n  [80, 130]),\n (\u0027*Kinetik*, Москва :default-city: : *Data Scientist* by \u003c@UDXM2H6MA\u003e :fork: *150-200k*\u0027,\n  [\u0027*Data Scientist* by\u0027],\n  [150, 200]),\n (\u0027*X5 Retail Group*, Москва :default-city: : *Computational Linguist* by \u003c@U2LGQMC4D\u003e :fork: *150к-250к + 45-75k*\u0027,\n  [\u0027*Computational Linguist* by\u0027],\n  [150, 250, 45, 75]),\n (\u0027*Алгомост* , Москва :default-city: : *Data Scientist* by \u003c@UBK9444P5\u003e :fork: *120-200k*\u0027,\n  [\u0027*Data Scientist* by\u0027],\n  [120, 200]),\n (\u0027*ID R\u0026amp;D* , Санкт-Петербург :spb: : *ML инженер* by \u003c@U78BSPA4X\u003e :fork: *150-300k*\u0027,\n  [\u0027*ML инженер* by\u0027],\n  [150, 300])]"
          },
          "metadata": {},
          "output_type": "execute_result",
          "execution_count": 138
        }
      ],
      "source": "filtered_jobs",
      "metadata": {
        "pycharm": {
          "metadata": false,
          "name": "#%%\n",
          "is_executing": false
        }
      }
    },
    {
      "cell_type": "code",
      "execution_count": 139,
      "outputs": [],
      "source": "min_forks \u003d [fj[2][0] for fj in filtered_jobs]\nmax_forks \u003d [fj[2][1] for fj in filtered_jobs]",
      "metadata": {
        "pycharm": {
          "metadata": false,
          "name": "#%%\n",
          "is_executing": false
        }
      }
    },
    {
      "cell_type": "code",
      "execution_count": 128,
      "outputs": [
        {
          "data": {
            "text/plain": "(121.66666666666667, 231.66666666666666)"
          },
          "metadata": {},
          "output_type": "execute_result",
          "execution_count": 128
        }
      ],
      "source": "# spb only\nnp.mean(min_forks), np.mean(max_forks)",
      "metadata": {
        "pycharm": {
          "metadata": false,
          "name": "#%%\n",
          "is_executing": false
        }
      }
    },
    {
      "cell_type": "code",
      "execution_count": 134,
      "outputs": [
        {
          "data": {
            "text/plain": "(135.0, 198.84615384615384)"
          },
          "metadata": {},
          "output_type": "execute_result",
          "execution_count": 134
        }
      ],
      "source": "# msk only\nnp.mean(min_forks), np.mean(max_forks)",
      "metadata": {
        "pycharm": {
          "metadata": false,
          "name": "#%%\n",
          "is_executing": false
        }
      }
    },
    {
      "cell_type": "code",
      "execution_count": 140,
      "outputs": [
        {
          "data": {
            "text/plain": "(130.78947368421052, 209.21052631578948)"
          },
          "metadata": {},
          "output_type": "execute_result",
          "execution_count": 140
        }
      ],
      "source": "# msk and spb\nnp.mean(min_forks), np.mean(max_forks)",
      "metadata": {
        "pycharm": {
          "metadata": false,
          "name": "#%%\n",
          "is_executing": false
        }
      }
    },
    {
      "cell_type": "code",
      "execution_count": null,
      "outputs": [],
      "source": "\n",
      "metadata": {
        "pycharm": {
          "metadata": false,
          "name": "#%%\n"
        }
      }
    }
  ],
  "metadata": {
    "language_info": {
      "codemirror_mode": {
        "name": "ipython",
        "version": 2
      },
      "file_extension": ".py",
      "mimetype": "text/x-python",
      "name": "python",
      "nbconvert_exporter": "python",
      "pygments_lexer": "ipython2",
      "version": "2.7.6"
    },
    "kernelspec": {
      "name": "python3",
      "language": "python",
      "display_name": "Python 3"
    }
  },
  "nbformat": 4,
  "nbformat_minor": 0
}